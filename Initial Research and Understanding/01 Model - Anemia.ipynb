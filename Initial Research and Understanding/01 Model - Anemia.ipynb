{
 "cells": [
  {
   "cell_type": "markdown",
   "id": "d308220a",
   "metadata": {},
   "source": [
    "# TRAIN THE ML MODEL ON ANEMIA DATASET"
   ]
  },
  {
   "cell_type": "markdown",
   "id": "32e1a225",
   "metadata": {},
   "source": [
    "I am going to implement the following three algorithms to train Machine Learning models on our dataset and compare the accuracy:\n",
    "- **Logistic Regression**\n",
    "- **SVM**\n",
    "- **Decision Tree**"
   ]
  },
  {
   "cell_type": "markdown",
   "id": "4d052a99",
   "metadata": {},
   "source": [
    "***IMPORTING NECESSARY LIBRARIES***"
   ]
  },
  {
   "cell_type": "code",
   "execution_count": 4,
   "id": "b77dbe31",
   "metadata": {},
   "outputs": [],
   "source": [
    "import numpy as mp\n",
    "import pandas as pd\n",
    "import matplotlib.pyplot as plt"
   ]
  },
  {
   "cell_type": "markdown",
   "id": "737fc58b",
   "metadata": {},
   "source": [
    "***IMPORTING DATASET***"
   ]
  },
  {
   "cell_type": "code",
   "execution_count": 5,
   "id": "7e25998a",
   "metadata": {},
   "outputs": [
    {
     "data": {
      "text/html": [
       "<div>\n",
       "<style scoped>\n",
       "    .dataframe tbody tr th:only-of-type {\n",
       "        vertical-align: middle;\n",
       "    }\n",
       "\n",
       "    .dataframe tbody tr th {\n",
       "        vertical-align: top;\n",
       "    }\n",
       "\n",
       "    .dataframe thead th {\n",
       "        text-align: right;\n",
       "    }\n",
       "</style>\n",
       "<table border=\"1\" class=\"dataframe\">\n",
       "  <thead>\n",
       "    <tr style=\"text-align: right;\">\n",
       "      <th></th>\n",
       "      <th>Conclusion</th>\n",
       "      <th>HGB(g/dL)</th>\n",
       "      <th>PLT(10^3/uL)</th>\n",
       "      <th>Judgment</th>\n",
       "      <th>Positive(Diff.)</th>\n",
       "      <th>Positive(Morph.)</th>\n",
       "      <th>Positive(Count)</th>\n",
       "      <th>RBC Abnormal</th>\n",
       "      <th>RBC Suspect</th>\n",
       "      <th>PLT Abnormal</th>\n",
       "      <th>...</th>\n",
       "      <th>[MicroR(%)]</th>\n",
       "      <th>[MacroR(%)]</th>\n",
       "      <th>[RBC-O(10^6/uL)]</th>\n",
       "      <th>[PLT-O(10^3/uL)]</th>\n",
       "      <th>[RBC-He(pg)]</th>\n",
       "      <th>[Delta-He(pg)]</th>\n",
       "      <th>[RET-Y(ch)]</th>\n",
       "      <th>[RET-RBC-Y(ch)]</th>\n",
       "      <th>[IRF-Y(ch)]</th>\n",
       "      <th>[FRC#(10^6/uL)]</th>\n",
       "    </tr>\n",
       "  </thead>\n",
       "  <tbody>\n",
       "    <tr>\n",
       "      <th>0</th>\n",
       "      <td>2</td>\n",
       "      <td>-0.482742</td>\n",
       "      <td>-0.649103</td>\n",
       "      <td>1.0</td>\n",
       "      <td>1.0</td>\n",
       "      <td>1.0</td>\n",
       "      <td>1.0</td>\n",
       "      <td>1.0</td>\n",
       "      <td>0.0</td>\n",
       "      <td>1.0</td>\n",
       "      <td>...</td>\n",
       "      <td>-0.688728</td>\n",
       "      <td>-0.387711</td>\n",
       "      <td>1.341533</td>\n",
       "      <td>0.021847</td>\n",
       "      <td>0.448553</td>\n",
       "      <td>-0.066939</td>\n",
       "      <td>0.442635</td>\n",
       "      <td>0.478757</td>\n",
       "      <td>0.584571</td>\n",
       "      <td>-0.136685</td>\n",
       "    </tr>\n",
       "    <tr>\n",
       "      <th>1</th>\n",
       "      <td>2</td>\n",
       "      <td>0.967966</td>\n",
       "      <td>-0.649103</td>\n",
       "      <td>1.0</td>\n",
       "      <td>1.0</td>\n",
       "      <td>1.0</td>\n",
       "      <td>1.0</td>\n",
       "      <td>0.0</td>\n",
       "      <td>0.0</td>\n",
       "      <td>1.0</td>\n",
       "      <td>...</td>\n",
       "      <td>-0.453965</td>\n",
       "      <td>-0.624089</td>\n",
       "      <td>-0.242688</td>\n",
       "      <td>-0.628659</td>\n",
       "      <td>-0.127202</td>\n",
       "      <td>-0.162824</td>\n",
       "      <td>-0.897701</td>\n",
       "      <td>-0.037930</td>\n",
       "      <td>-1.231430</td>\n",
       "      <td>-0.136685</td>\n",
       "    </tr>\n",
       "    <tr>\n",
       "      <th>2</th>\n",
       "      <td>5</td>\n",
       "      <td>0.669290</td>\n",
       "      <td>0.779377</td>\n",
       "      <td>1.0</td>\n",
       "      <td>0.0</td>\n",
       "      <td>1.0</td>\n",
       "      <td>0.0</td>\n",
       "      <td>1.0</td>\n",
       "      <td>1.0</td>\n",
       "      <td>0.0</td>\n",
       "      <td>...</td>\n",
       "      <td>0.328577</td>\n",
       "      <td>-0.624089</td>\n",
       "      <td>-0.242688</td>\n",
       "      <td>-0.628659</td>\n",
       "      <td>-0.645380</td>\n",
       "      <td>-0.162824</td>\n",
       "      <td>-1.291291</td>\n",
       "      <td>-0.567068</td>\n",
       "      <td>-1.435596</td>\n",
       "      <td>-0.194961</td>\n",
       "    </tr>\n",
       "    <tr>\n",
       "      <th>3</th>\n",
       "      <td>4</td>\n",
       "      <td>-0.482742</td>\n",
       "      <td>-0.434587</td>\n",
       "      <td>1.0</td>\n",
       "      <td>1.0</td>\n",
       "      <td>1.0</td>\n",
       "      <td>1.0</td>\n",
       "      <td>1.0</td>\n",
       "      <td>0.0</td>\n",
       "      <td>1.0</td>\n",
       "      <td>...</td>\n",
       "      <td>-0.289632</td>\n",
       "      <td>-0.651898</td>\n",
       "      <td>0.779687</td>\n",
       "      <td>-0.826135</td>\n",
       "      <td>-0.213565</td>\n",
       "      <td>0.668175</td>\n",
       "      <td>-0.732818</td>\n",
       "      <td>-0.137532</td>\n",
       "      <td>-0.060163</td>\n",
       "      <td>-0.026321</td>\n",
       "    </tr>\n",
       "    <tr>\n",
       "      <th>4</th>\n",
       "      <td>3</td>\n",
       "      <td>0.327947</td>\n",
       "      <td>-0.775863</td>\n",
       "      <td>1.0</td>\n",
       "      <td>1.0</td>\n",
       "      <td>1.0</td>\n",
       "      <td>0.0</td>\n",
       "      <td>0.0</td>\n",
       "      <td>1.0</td>\n",
       "      <td>1.0</td>\n",
       "      <td>...</td>\n",
       "      <td>-0.031393</td>\n",
       "      <td>-0.554566</td>\n",
       "      <td>-0.003213</td>\n",
       "      <td>1.113769</td>\n",
       "      <td>-0.443866</td>\n",
       "      <td>1.531136</td>\n",
       "      <td>-1.227466</td>\n",
       "      <td>-0.355413</td>\n",
       "      <td>-1.080992</td>\n",
       "      <td>-0.194961</td>\n",
       "    </tr>\n",
       "  </tbody>\n",
       "</table>\n",
       "<p>5 rows × 67 columns</p>\n",
       "</div>"
      ],
      "text/plain": [
       "   Conclusion  HGB(g/dL)  PLT(10^3/uL)  Judgment  Positive(Diff.)  \\\n",
       "0           2  -0.482742     -0.649103       1.0              1.0   \n",
       "1           2   0.967966     -0.649103       1.0              1.0   \n",
       "2           5   0.669290      0.779377       1.0              0.0   \n",
       "3           4  -0.482742     -0.434587       1.0              1.0   \n",
       "4           3   0.327947     -0.775863       1.0              1.0   \n",
       "\n",
       "   Positive(Morph.)  Positive(Count)  RBC Abnormal  RBC Suspect  PLT Abnormal  \\\n",
       "0               1.0              1.0           1.0          0.0           1.0   \n",
       "1               1.0              1.0           0.0          0.0           1.0   \n",
       "2               1.0              0.0           1.0          1.0           0.0   \n",
       "3               1.0              1.0           1.0          0.0           1.0   \n",
       "4               1.0              0.0           0.0          1.0           1.0   \n",
       "\n",
       "   ...  [MicroR(%)]  [MacroR(%)]  [RBC-O(10^6/uL)]  [PLT-O(10^3/uL)]  \\\n",
       "0  ...    -0.688728    -0.387711          1.341533          0.021847   \n",
       "1  ...    -0.453965    -0.624089         -0.242688         -0.628659   \n",
       "2  ...     0.328577    -0.624089         -0.242688         -0.628659   \n",
       "3  ...    -0.289632    -0.651898          0.779687         -0.826135   \n",
       "4  ...    -0.031393    -0.554566         -0.003213          1.113769   \n",
       "\n",
       "   [RBC-He(pg)]  [Delta-He(pg)]  [RET-Y(ch)]  [RET-RBC-Y(ch)]  [IRF-Y(ch)]  \\\n",
       "0      0.448553       -0.066939     0.442635         0.478757     0.584571   \n",
       "1     -0.127202       -0.162824    -0.897701        -0.037930    -1.231430   \n",
       "2     -0.645380       -0.162824    -1.291291        -0.567068    -1.435596   \n",
       "3     -0.213565        0.668175    -0.732818        -0.137532    -0.060163   \n",
       "4     -0.443866        1.531136    -1.227466        -0.355413    -1.080992   \n",
       "\n",
       "   [FRC#(10^6/uL)]  \n",
       "0        -0.136685  \n",
       "1        -0.136685  \n",
       "2        -0.194961  \n",
       "3        -0.026321  \n",
       "4        -0.194961  \n",
       "\n",
       "[5 rows x 67 columns]"
      ]
     },
     "execution_count": 5,
     "metadata": {},
     "output_type": "execute_result"
    }
   ],
   "source": [
    "dataset = pd.read_csv(\"E:\\\\7th Semester\\\\FYP\\\\Projects\\\\Github Repo\\\\GitHub\\\\Synthetic_data.csv\")\n",
    "dataset.head()"
   ]
  },
  {
   "cell_type": "markdown",
   "id": "867ae449",
   "metadata": {},
   "source": [
    "***CHECKING ANY NULL VALUES***"
   ]
  },
  {
   "cell_type": "code",
   "execution_count": 6,
   "id": "ef0b8749",
   "metadata": {},
   "outputs": [
    {
     "name": "stdout",
     "output_type": "stream",
     "text": [
      "Conclusion         0\n",
      "HGB(g/dL)          0\n",
      "PLT(10^3/uL)       0\n",
      "Judgment           0\n",
      "Positive(Diff.)    0\n",
      "                  ..\n",
      "[Delta-He(pg)]     0\n",
      "[RET-Y(ch)]        0\n",
      "[RET-RBC-Y(ch)]    0\n",
      "[IRF-Y(ch)]        0\n",
      "[FRC#(10^6/uL)]    0\n",
      "Length: 67, dtype: int64\n"
     ]
    }
   ],
   "source": [
    "print(dataset.isna().sum(axis=0))"
   ]
  },
  {
   "cell_type": "code",
   "execution_count": 7,
   "id": "ba262294",
   "metadata": {},
   "outputs": [
    {
     "name": "stdout",
     "output_type": "stream",
     "text": [
      "<class 'pandas.core.frame.DataFrame'>\n",
      "RangeIndex: 1000 entries, 0 to 999\n",
      "Data columns (total 67 columns):\n",
      " #   Column                            Non-Null Count  Dtype  \n",
      "---  ------                            --------------  -----  \n",
      " 0   Conclusion                        1000 non-null   int64  \n",
      " 1   HGB(g/dL)                         1000 non-null   float64\n",
      " 2   PLT(10^3/uL)                      1000 non-null   float64\n",
      " 3   Judgment                          1000 non-null   float64\n",
      " 4   Positive(Diff.)                   1000 non-null   float64\n",
      " 5   Positive(Morph.)                  1000 non-null   float64\n",
      " 6   Positive(Count)                   1000 non-null   float64\n",
      " 7   RBC Abnormal                      1000 non-null   float64\n",
      " 8   RBC Suspect                       1000 non-null   float64\n",
      " 9   PLT Abnormal                      1000 non-null   float64\n",
      " 10  PLT Suspect                       1000 non-null   float64\n",
      " 11  IP ABN(RBC)RBC Abn Distribution   1000 non-null   float64\n",
      " 12  IP ABN(RBC)Dimorphic Population   1000 non-null   float64\n",
      " 13  IP ABN(RBC)Anisocytosis           1000 non-null   float64\n",
      " 14  IP ABN(RBC)Microcytosis           1000 non-null   float64\n",
      " 15  IP ABN(RBC)Macrocytosis           1000 non-null   float64\n",
      " 16  IP ABN(RBC)Hypochromia            1000 non-null   float64\n",
      " 17  IP ABN(RBC)Anemia                 1000 non-null   float64\n",
      " 18  IP ABN(RBC)Erythrocytosis         1000 non-null   float64\n",
      " 19  IP ABN(RBC)RET Abn Scattergram    1000 non-null   float64\n",
      " 20  IP ABN(RBC)Reticulocytosis        1000 non-null   float64\n",
      " 21  IP ABN(PLT)PLT Abn Distribution   1000 non-null   float64\n",
      " 22  IP ABN(PLT)Thrombocytopenia       1000 non-null   float64\n",
      " 23  IP ABN(PLT)Thrombocytosis         1000 non-null   float64\n",
      " 24  IP ABN(PLT)PLT Abn Scattergram    1000 non-null   float64\n",
      " 25  IP SUS(RBC)RBC Agglutination?     1000 non-null   float64\n",
      " 26  IP SUS(RBC)Turbidity/HGB Interf?  1000 non-null   float64\n",
      " 27  IP SUS(RBC)Iron Deficiency?       1000 non-null   float64\n",
      " 28  IP SUS(RBC)HGB Defect?            1000 non-null   float64\n",
      " 29  IP SUS(RBC)Fragments?             1000 non-null   float64\n",
      " 30  IP SUS(PLT)PLT Clumps?            1000 non-null   float64\n",
      " 31  Q-Flag(RBC Agglutination?)        1000 non-null   float64\n",
      " 32  Q-Flag(Turbidity/HGB Interf?)     1000 non-null   float64\n",
      " 33  Q-Flag(Iron Deficiency?)          1000 non-null   float64\n",
      " 34  Q-Flag(HGB Defect?)               1000 non-null   float64\n",
      " 35  Q-Flag(Fragments?)                1000 non-null   float64\n",
      " 36  Q-Flag(PLT Clumps?)               1000 non-null   float64\n",
      " 37  RBC(10^6/uL)                      1000 non-null   float64\n",
      " 38  HCT(%)                            1000 non-null   float64\n",
      " 39  MCV(fL)                           1000 non-null   float64\n",
      " 40  MCH(pg)                           1000 non-null   float64\n",
      " 41  MCHC(g/dL)                        1000 non-null   float64\n",
      " 42  RDW-SD(fL)                        1000 non-null   float64\n",
      " 43  RDW-CV(%)                         1000 non-null   float64\n",
      " 44  PDW(fL)                           1000 non-null   float64\n",
      " 45  MPV(fL)                           1000 non-null   float64\n",
      " 46  P-LCR(%)                          1000 non-null   float64\n",
      " 47  PCT(%)                            1000 non-null   float64\n",
      " 48  NRBC#(10^3/uL)                    1000 non-null   float64\n",
      " 49  RET%(%)                           1000 non-null   float64\n",
      " 50  RET#(10^9/L)                      1000 non-null   float64\n",
      " 51  IRF(%)                            1000 non-null   float64\n",
      " 52  LFR(%)                            1000 non-null   float64\n",
      " 53  MFR(%)                            1000 non-null   float64\n",
      " 54  HFR(%)                            1000 non-null   float64\n",
      " 55  RET-He(pg)                        1000 non-null   float64\n",
      " 56  [PLT-I(10^3/uL)]                  1000 non-null   float64\n",
      " 57  [MicroR(%)]                       1000 non-null   float64\n",
      " 58  [MacroR(%)]                       1000 non-null   float64\n",
      " 59  [RBC-O(10^6/uL)]                  1000 non-null   float64\n",
      " 60  [PLT-O(10^3/uL)]                  1000 non-null   float64\n",
      " 61  [RBC-He(pg)]                      1000 non-null   float64\n",
      " 62  [Delta-He(pg)]                    1000 non-null   float64\n",
      " 63  [RET-Y(ch)]                       1000 non-null   float64\n",
      " 64  [RET-RBC-Y(ch)]                   1000 non-null   float64\n",
      " 65  [IRF-Y(ch)]                       1000 non-null   float64\n",
      " 66  [FRC#(10^6/uL)]                   1000 non-null   float64\n",
      "dtypes: float64(66), int64(1)\n",
      "memory usage: 523.6 KB\n"
     ]
    }
   ],
   "source": [
    "dataset.info()"
   ]
  },
  {
   "cell_type": "code",
   "execution_count": 8,
   "id": "e05ee52d",
   "metadata": {},
   "outputs": [
    {
     "data": {
      "text/html": [
       "<div>\n",
       "<style scoped>\n",
       "    .dataframe tbody tr th:only-of-type {\n",
       "        vertical-align: middle;\n",
       "    }\n",
       "\n",
       "    .dataframe tbody tr th {\n",
       "        vertical-align: top;\n",
       "    }\n",
       "\n",
       "    .dataframe thead th {\n",
       "        text-align: right;\n",
       "    }\n",
       "</style>\n",
       "<table border=\"1\" class=\"dataframe\">\n",
       "  <thead>\n",
       "    <tr style=\"text-align: right;\">\n",
       "      <th></th>\n",
       "      <th>Conclusion</th>\n",
       "      <th>HGB(g/dL)</th>\n",
       "      <th>PLT(10^3/uL)</th>\n",
       "      <th>Judgment</th>\n",
       "      <th>Positive(Diff.)</th>\n",
       "      <th>Positive(Morph.)</th>\n",
       "      <th>Positive(Count)</th>\n",
       "      <th>RBC Abnormal</th>\n",
       "      <th>RBC Suspect</th>\n",
       "      <th>PLT Abnormal</th>\n",
       "      <th>...</th>\n",
       "      <th>[MicroR(%)]</th>\n",
       "      <th>[MacroR(%)]</th>\n",
       "      <th>[RBC-O(10^6/uL)]</th>\n",
       "      <th>[PLT-O(10^3/uL)]</th>\n",
       "      <th>[RBC-He(pg)]</th>\n",
       "      <th>[Delta-He(pg)]</th>\n",
       "      <th>[RET-Y(ch)]</th>\n",
       "      <th>[RET-RBC-Y(ch)]</th>\n",
       "      <th>[IRF-Y(ch)]</th>\n",
       "      <th>[FRC#(10^6/uL)]</th>\n",
       "    </tr>\n",
       "  </thead>\n",
       "  <tbody>\n",
       "    <tr>\n",
       "      <th>count</th>\n",
       "      <td>1000.000000</td>\n",
       "      <td>1000.000000</td>\n",
       "      <td>1000.000000</td>\n",
       "      <td>1000.000000</td>\n",
       "      <td>1000.000000</td>\n",
       "      <td>1000.000000</td>\n",
       "      <td>1000.00000</td>\n",
       "      <td>1000.000000</td>\n",
       "      <td>1000.000000</td>\n",
       "      <td>1000.000000</td>\n",
       "      <td>...</td>\n",
       "      <td>1000.000000</td>\n",
       "      <td>1000.000000</td>\n",
       "      <td>1000.000000</td>\n",
       "      <td>1000.000000</td>\n",
       "      <td>1000.000000</td>\n",
       "      <td>1000.000000</td>\n",
       "      <td>1000.000000</td>\n",
       "      <td>1000.000000</td>\n",
       "      <td>1000.000000</td>\n",
       "      <td>1000.000000</td>\n",
       "    </tr>\n",
       "    <tr>\n",
       "      <th>mean</th>\n",
       "      <td>6.523000</td>\n",
       "      <td>-0.029140</td>\n",
       "      <td>0.008076</td>\n",
       "      <td>0.938000</td>\n",
       "      <td>0.660000</td>\n",
       "      <td>0.884000</td>\n",
       "      <td>0.85000</td>\n",
       "      <td>0.737000</td>\n",
       "      <td>0.409000</td>\n",
       "      <td>0.664000</td>\n",
       "      <td>...</td>\n",
       "      <td>0.036579</td>\n",
       "      <td>0.005288</td>\n",
       "      <td>0.008807</td>\n",
       "      <td>-0.043069</td>\n",
       "      <td>-0.015419</td>\n",
       "      <td>0.002956</td>\n",
       "      <td>0.026849</td>\n",
       "      <td>-0.023649</td>\n",
       "      <td>0.050791</td>\n",
       "      <td>0.105166</td>\n",
       "    </tr>\n",
       "    <tr>\n",
       "      <th>std</th>\n",
       "      <td>5.132037</td>\n",
       "      <td>1.034691</td>\n",
       "      <td>0.991993</td>\n",
       "      <td>0.241276</td>\n",
       "      <td>0.473946</td>\n",
       "      <td>0.320385</td>\n",
       "      <td>0.35725</td>\n",
       "      <td>0.440483</td>\n",
       "      <td>0.491895</td>\n",
       "      <td>0.472575</td>\n",
       "      <td>...</td>\n",
       "      <td>1.080250</td>\n",
       "      <td>0.996072</td>\n",
       "      <td>1.044631</td>\n",
       "      <td>0.968976</td>\n",
       "      <td>1.046632</td>\n",
       "      <td>0.960201</td>\n",
       "      <td>1.040819</td>\n",
       "      <td>1.067419</td>\n",
       "      <td>1.004323</td>\n",
       "      <td>1.395777</td>\n",
       "    </tr>\n",
       "    <tr>\n",
       "      <th>min</th>\n",
       "      <td>0.000000</td>\n",
       "      <td>-2.018786</td>\n",
       "      <td>-0.785613</td>\n",
       "      <td>0.000000</td>\n",
       "      <td>0.000000</td>\n",
       "      <td>0.000000</td>\n",
       "      <td>0.00000</td>\n",
       "      <td>0.000000</td>\n",
       "      <td>0.000000</td>\n",
       "      <td>0.000000</td>\n",
       "      <td>...</td>\n",
       "      <td>-0.853062</td>\n",
       "      <td>-0.929990</td>\n",
       "      <td>-1.974279</td>\n",
       "      <td>-0.878407</td>\n",
       "      <td>-3.092336</td>\n",
       "      <td>-2.847590</td>\n",
       "      <td>-2.333774</td>\n",
       "      <td>-3.885072</td>\n",
       "      <td>-2.311359</td>\n",
       "      <td>-0.194961</td>\n",
       "    </tr>\n",
       "    <tr>\n",
       "      <th>25%</th>\n",
       "      <td>3.000000</td>\n",
       "      <td>-0.738750</td>\n",
       "      <td>-0.683231</td>\n",
       "      <td>1.000000</td>\n",
       "      <td>0.000000</td>\n",
       "      <td>1.000000</td>\n",
       "      <td>1.00000</td>\n",
       "      <td>0.000000</td>\n",
       "      <td>0.000000</td>\n",
       "      <td>0.000000</td>\n",
       "      <td>...</td>\n",
       "      <td>-0.602648</td>\n",
       "      <td>-0.526757</td>\n",
       "      <td>-0.776902</td>\n",
       "      <td>-0.797094</td>\n",
       "      <td>-0.645380</td>\n",
       "      <td>-0.546362</td>\n",
       "      <td>-0.732818</td>\n",
       "      <td>-0.573293</td>\n",
       "      <td>-0.688778</td>\n",
       "      <td>-0.173665</td>\n",
       "    </tr>\n",
       "    <tr>\n",
       "      <th>50%</th>\n",
       "      <td>5.000000</td>\n",
       "      <td>-0.098731</td>\n",
       "      <td>-0.493092</td>\n",
       "      <td>1.000000</td>\n",
       "      <td>1.000000</td>\n",
       "      <td>1.000000</td>\n",
       "      <td>1.00000</td>\n",
       "      <td>1.000000</td>\n",
       "      <td>0.000000</td>\n",
       "      <td>1.000000</td>\n",
       "      <td>...</td>\n",
       "      <td>-0.289632</td>\n",
       "      <td>-0.380759</td>\n",
       "      <td>-0.067687</td>\n",
       "      <td>-0.538634</td>\n",
       "      <td>-0.012051</td>\n",
       "      <td>-0.066939</td>\n",
       "      <td>0.099573</td>\n",
       "      <td>0.074123</td>\n",
       "      <td>0.133258</td>\n",
       "      <td>-0.136685</td>\n",
       "    </tr>\n",
       "    <tr>\n",
       "      <th>75%</th>\n",
       "      <td>9.000000</td>\n",
       "      <td>0.498619</td>\n",
       "      <td>0.637992</td>\n",
       "      <td>1.000000</td>\n",
       "      <td>1.000000</td>\n",
       "      <td>1.000000</td>\n",
       "      <td>1.00000</td>\n",
       "      <td>1.000000</td>\n",
       "      <td>1.000000</td>\n",
       "      <td>1.000000</td>\n",
       "      <td>...</td>\n",
       "      <td>0.344228</td>\n",
       "      <td>0.140663</td>\n",
       "      <td>0.669160</td>\n",
       "      <td>0.620081</td>\n",
       "      <td>0.563704</td>\n",
       "      <td>0.668175</td>\n",
       "      <td>0.798994</td>\n",
       "      <td>0.590810</td>\n",
       "      <td>0.885447</td>\n",
       "      <td>-0.057689</td>\n",
       "    </tr>\n",
       "    <tr>\n",
       "      <th>max</th>\n",
       "      <td>22.000000</td>\n",
       "      <td>3.570706</td>\n",
       "      <td>4.006866</td>\n",
       "      <td>1.000000</td>\n",
       "      <td>1.000000</td>\n",
       "      <td>1.000000</td>\n",
       "      <td>1.00000</td>\n",
       "      <td>1.000000</td>\n",
       "      <td>1.000000</td>\n",
       "      <td>1.000000</td>\n",
       "      <td>...</td>\n",
       "      <td>5.180337</td>\n",
       "      <td>5.855442</td>\n",
       "      <td>3.773128</td>\n",
       "      <td>4.180442</td>\n",
       "      <td>2.722782</td>\n",
       "      <td>2.458019</td>\n",
       "      <td>1.830839</td>\n",
       "      <td>2.240474</td>\n",
       "      <td>1.960004</td>\n",
       "      <td>9.174685</td>\n",
       "    </tr>\n",
       "  </tbody>\n",
       "</table>\n",
       "<p>8 rows × 67 columns</p>\n",
       "</div>"
      ],
      "text/plain": [
       "        Conclusion    HGB(g/dL)  PLT(10^3/uL)     Judgment  Positive(Diff.)  \\\n",
       "count  1000.000000  1000.000000   1000.000000  1000.000000      1000.000000   \n",
       "mean      6.523000    -0.029140      0.008076     0.938000         0.660000   \n",
       "std       5.132037     1.034691      0.991993     0.241276         0.473946   \n",
       "min       0.000000    -2.018786     -0.785613     0.000000         0.000000   \n",
       "25%       3.000000    -0.738750     -0.683231     1.000000         0.000000   \n",
       "50%       5.000000    -0.098731     -0.493092     1.000000         1.000000   \n",
       "75%       9.000000     0.498619      0.637992     1.000000         1.000000   \n",
       "max      22.000000     3.570706      4.006866     1.000000         1.000000   \n",
       "\n",
       "       Positive(Morph.)  Positive(Count)  RBC Abnormal  RBC Suspect  \\\n",
       "count       1000.000000       1000.00000   1000.000000  1000.000000   \n",
       "mean           0.884000          0.85000      0.737000     0.409000   \n",
       "std            0.320385          0.35725      0.440483     0.491895   \n",
       "min            0.000000          0.00000      0.000000     0.000000   \n",
       "25%            1.000000          1.00000      0.000000     0.000000   \n",
       "50%            1.000000          1.00000      1.000000     0.000000   \n",
       "75%            1.000000          1.00000      1.000000     1.000000   \n",
       "max            1.000000          1.00000      1.000000     1.000000   \n",
       "\n",
       "       PLT Abnormal  ...  [MicroR(%)]  [MacroR(%)]  [RBC-O(10^6/uL)]  \\\n",
       "count   1000.000000  ...  1000.000000  1000.000000       1000.000000   \n",
       "mean       0.664000  ...     0.036579     0.005288          0.008807   \n",
       "std        0.472575  ...     1.080250     0.996072          1.044631   \n",
       "min        0.000000  ...    -0.853062    -0.929990         -1.974279   \n",
       "25%        0.000000  ...    -0.602648    -0.526757         -0.776902   \n",
       "50%        1.000000  ...    -0.289632    -0.380759         -0.067687   \n",
       "75%        1.000000  ...     0.344228     0.140663          0.669160   \n",
       "max        1.000000  ...     5.180337     5.855442          3.773128   \n",
       "\n",
       "       [PLT-O(10^3/uL)]  [RBC-He(pg)]  [Delta-He(pg)]  [RET-Y(ch)]  \\\n",
       "count       1000.000000   1000.000000     1000.000000  1000.000000   \n",
       "mean          -0.043069     -0.015419        0.002956     0.026849   \n",
       "std            0.968976      1.046632        0.960201     1.040819   \n",
       "min           -0.878407     -3.092336       -2.847590    -2.333774   \n",
       "25%           -0.797094     -0.645380       -0.546362    -0.732818   \n",
       "50%           -0.538634     -0.012051       -0.066939     0.099573   \n",
       "75%            0.620081      0.563704        0.668175     0.798994   \n",
       "max            4.180442      2.722782        2.458019     1.830839   \n",
       "\n",
       "       [RET-RBC-Y(ch)]  [IRF-Y(ch)]  [FRC#(10^6/uL)]  \n",
       "count      1000.000000  1000.000000      1000.000000  \n",
       "mean         -0.023649     0.050791         0.105166  \n",
       "std           1.067419     1.004323         1.395777  \n",
       "min          -3.885072    -2.311359        -0.194961  \n",
       "25%          -0.573293    -0.688778        -0.173665  \n",
       "50%           0.074123     0.133258        -0.136685  \n",
       "75%           0.590810     0.885447        -0.057689  \n",
       "max           2.240474     1.960004         9.174685  \n",
       "\n",
       "[8 rows x 67 columns]"
      ]
     },
     "execution_count": 8,
     "metadata": {},
     "output_type": "execute_result"
    }
   ],
   "source": [
    "dataset.describe()"
   ]
  },
  {
   "cell_type": "markdown",
   "id": "8cc0c77a",
   "metadata": {},
   "source": [
    "***SEPARATING TARGET AND FEATURES***"
   ]
  },
  {
   "cell_type": "code",
   "execution_count": 9,
   "id": "395287d3",
   "metadata": {},
   "outputs": [],
   "source": [
    "X = dataset.iloc[:, 1:]\n",
    "Y = dataset.iloc[:, 0]"
   ]
  },
  {
   "cell_type": "code",
   "execution_count": 10,
   "id": "7f293229",
   "metadata": {},
   "outputs": [
    {
     "name": "stdout",
     "output_type": "stream",
     "text": [
      "     HGB(g/dL)  PLT(10^3/uL)  Judgment  Positive(Diff.)  Positive(Morph.)  \\\n",
      "0    -0.482742     -0.649103       1.0              1.0               1.0   \n",
      "1     0.967966     -0.649103       1.0              1.0               1.0   \n",
      "2     0.669290      0.779377       1.0              0.0               1.0   \n",
      "3    -0.482742     -0.434587       1.0              1.0               1.0   \n",
      "4     0.327947     -0.775863       1.0              1.0               1.0   \n",
      "..         ...           ...       ...              ...               ...   \n",
      "995   0.242612     -0.614976       1.0              0.0               1.0   \n",
      "996   0.711958      0.779377       1.0              1.0               1.0   \n",
      "997   0.114608      1.330293       1.0              1.0               1.0   \n",
      "998  -1.378768      1.330293       1.0              0.0               1.0   \n",
      "999  -0.525410     -0.649103       1.0              0.0               1.0   \n",
      "\n",
      "     Positive(Count)  RBC Abnormal  RBC Suspect  PLT Abnormal  PLT Suspect  \\\n",
      "0                1.0           1.0          0.0           1.0          0.0   \n",
      "1                1.0           0.0          0.0           1.0          0.0   \n",
      "2                0.0           1.0          1.0           0.0          0.0   \n",
      "3                1.0           1.0          0.0           1.0          0.0   \n",
      "4                0.0           0.0          1.0           1.0          0.0   \n",
      "..               ...           ...          ...           ...          ...   \n",
      "995              1.0           1.0          1.0           1.0          0.0   \n",
      "996              1.0           1.0          1.0           0.0          0.0   \n",
      "997              1.0           1.0          1.0           0.0          0.0   \n",
      "998              1.0           1.0          1.0           0.0          0.0   \n",
      "999              1.0           1.0          1.0           1.0          0.0   \n",
      "\n",
      "     ...  [MicroR(%)]  [MacroR(%)]  [RBC-O(10^6/uL)]  [PLT-O(10^3/uL)]  \\\n",
      "0    ...    -0.688728    -0.387711          1.341533          0.021847   \n",
      "1    ...    -0.453965    -0.624089         -0.242688         -0.628659   \n",
      "2    ...     0.328577    -0.624089         -0.242688         -0.628659   \n",
      "3    ...    -0.289632    -0.651898          0.779687         -0.826135   \n",
      "4    ...    -0.031393    -0.554566         -0.003213          1.113769   \n",
      "..   ...          ...          ...               ...               ...   \n",
      "995  ...    -0.704379     0.794177         -1.569013         -0.210477   \n",
      "996  ...    -0.493092     1.725784          0.144156         -0.797094   \n",
      "997  ...    -0.007916    -0.443330         -1.228221         -0.808710   \n",
      "998  ...     0.344228    -0.498948          3.773128          1.799124   \n",
      "999  ...    -0.602648    -0.471139          2.188907          1.386749   \n",
      "\n",
      "     [RBC-He(pg)]  [Delta-He(pg)]  [RET-Y(ch)]  [RET-RBC-Y(ch)]  [IRF-Y(ch)]  \\\n",
      "0        0.448553       -0.066939     0.442635         0.478757     0.584571   \n",
      "1       -0.127202       -0.162824    -0.897701        -0.037930    -1.231430   \n",
      "2       -0.645380       -0.162824    -1.291291        -0.567068    -1.435596   \n",
      "3       -0.213565        0.668175    -0.732818        -0.137532    -0.060163   \n",
      "4       -0.443866        1.531136    -1.227466        -0.355413    -1.080992   \n",
      "..            ...             ...          ...              ...          ...   \n",
      "995      1.312184        0.955829     0.798994         1.219550     1.019767   \n",
      "996      1.197033        1.083675     1.267047         1.113722     0.724264   \n",
      "997      0.390977       -1.409322     1.054296         0.447632     1.132595   \n",
      "998     -0.357503       -0.578323    -0.408372        -0.274486    -0.688778   \n",
      "999      0.362190       -0.546362     0.128826         0.416506     0.837092   \n",
      "\n",
      "     [FRC#(10^6/uL)]  \n",
      "0          -0.136685  \n",
      "1          -0.136685  \n",
      "2          -0.194961  \n",
      "3          -0.026321  \n",
      "4          -0.194961  \n",
      "..               ...  \n",
      "995        -0.173234  \n",
      "996        -0.194961  \n",
      "997        -0.187335  \n",
      "998        -0.187335  \n",
      "999        -0.136685  \n",
      "\n",
      "[1000 rows x 66 columns]\n"
     ]
    }
   ],
   "source": [
    "print(X)"
   ]
  },
  {
   "cell_type": "code",
   "execution_count": 11,
   "id": "63d2f577",
   "metadata": {},
   "outputs": [
    {
     "name": "stdout",
     "output_type": "stream",
     "text": [
      "0       2\n",
      "1       2\n",
      "2       5\n",
      "3       4\n",
      "4       3\n",
      "       ..\n",
      "995     4\n",
      "996     5\n",
      "997    16\n",
      "998    16\n",
      "999     2\n",
      "Name: Conclusion, Length: 1000, dtype: int64\n"
     ]
    }
   ],
   "source": [
    "print(Y)"
   ]
  },
  {
   "cell_type": "code",
   "execution_count": 12,
   "id": "6b95b99c",
   "metadata": {},
   "outputs": [
    {
     "name": "stdout",
     "output_type": "stream",
     "text": [
      "[ 2  5  4  3  7 21  9  1 13 18 16  0 11 12 10 15 17 14  8 22  6 19 20]\n"
     ]
    }
   ],
   "source": [
    "print(Y.unique())"
   ]
  },
  {
   "cell_type": "markdown",
   "id": "b3febc42",
   "metadata": {},
   "source": [
    "***SEPARATING TEST AND TRAINING DATA***"
   ]
  },
  {
   "cell_type": "code",
   "execution_count": 13,
   "id": "f8e3b54f",
   "metadata": {},
   "outputs": [],
   "source": [
    "from sklearn.model_selection import train_test_split\n",
    "X_train, X_test, Y_train, Y_test = train_test_split(X,Y, test_size=0.1)"
   ]
  },
  {
   "cell_type": "markdown",
   "id": "a5c106f9",
   "metadata": {},
   "source": [
    "# TRAINING THE LOGISTIC REGRESSION MODEL"
   ]
  },
  {
   "cell_type": "code",
   "execution_count": 14,
   "id": "fe034b1b",
   "metadata": {},
   "outputs": [
    {
     "name": "stderr",
     "output_type": "stream",
     "text": [
      "C:\\Users\\MEB\\anaconda3\\lib\\site-packages\\sklearn\\linear_model\\_logistic.py:763: ConvergenceWarning: lbfgs failed to converge (status=1):\n",
      "STOP: TOTAL NO. of ITERATIONS REACHED LIMIT.\n",
      "\n",
      "Increase the number of iterations (max_iter) or scale the data as shown in:\n",
      "    https://scikit-learn.org/stable/modules/preprocessing.html\n",
      "Please also refer to the documentation for alternative solver options:\n",
      "    https://scikit-learn.org/stable/modules/linear_model.html#logistic-regression\n",
      "  n_iter_i = _check_optimize_result(\n"
     ]
    },
    {
     "data": {
      "text/plain": [
       "LogisticRegression()"
      ]
     },
     "execution_count": 14,
     "metadata": {},
     "output_type": "execute_result"
    }
   ],
   "source": [
    "#Training the model\n",
    "from sklearn.linear_model import LogisticRegression\n",
    "LR = LogisticRegression()\n",
    "LR.fit(X_train, Y_train)"
   ]
  },
  {
   "cell_type": "markdown",
   "id": "358feb51",
   "metadata": {},
   "source": [
    "***DRAWING PREDICTIONS ON TEST DATASET***"
   ]
  },
  {
   "cell_type": "code",
   "execution_count": 15,
   "id": "6a4e8e76",
   "metadata": {},
   "outputs": [],
   "source": [
    "predictions = LR.predict(X_test)"
   ]
  },
  {
   "cell_type": "code",
   "execution_count": 16,
   "id": "baf4b75a",
   "metadata": {},
   "outputs": [
    {
     "name": "stdout",
     "output_type": "stream",
     "text": [
      "16.97\n"
     ]
    }
   ],
   "source": [
    "#Finding the confusion matrix\n",
    "from sklearn.metrics import mean_squared_error, confusion_matrix\n",
    "MSE = mean_squared_error(Y_test, predictions)\n",
    "print(MSE)"
   ]
  },
  {
   "cell_type": "markdown",
   "id": "cbd30770",
   "metadata": {},
   "source": [
    "# Training the Support Vector Machine (SVM) on Anemia dataset"
   ]
  },
  {
   "cell_type": "markdown",
   "id": "ad4579e4",
   "metadata": {},
   "source": [
    "***SVC WITHOUT ANY PARAMETERS***"
   ]
  },
  {
   "cell_type": "code",
   "execution_count": 17,
   "id": "181cf673",
   "metadata": {},
   "outputs": [
    {
     "data": {
      "text/plain": [
       "SVC()"
      ]
     },
     "execution_count": 17,
     "metadata": {},
     "output_type": "execute_result"
    }
   ],
   "source": [
    "from sklearn.svm import SVC\n",
    "model = SVC()\n",
    "model.fit(X_train, Y_train)"
   ]
  },
  {
   "cell_type": "code",
   "execution_count": 18,
   "id": "b7e4750e",
   "metadata": {},
   "outputs": [
    {
     "name": "stdout",
     "output_type": "stream",
     "text": [
      "Accuracy =  29\n"
     ]
    }
   ],
   "source": [
    "predictions = model.predict(X_test)\n",
    "\n",
    "#Printing score and confusion matrix\n",
    "from sklearn.metrics import accuracy_score, confusion_matrix\n",
    "print(\"Accuracy = \", (round((accuracy_score(Y_test, predictions))*100)))"
   ]
  },
  {
   "cell_type": "markdown",
   "id": "290894a8",
   "metadata": {},
   "source": [
    "***SVC WITH KERNEL RBF***"
   ]
  },
  {
   "cell_type": "code",
   "execution_count": 19,
   "id": "816b93c4",
   "metadata": {},
   "outputs": [
    {
     "data": {
      "text/plain": [
       "SVC()"
      ]
     },
     "execution_count": 19,
     "metadata": {},
     "output_type": "execute_result"
    }
   ],
   "source": [
    "from sklearn.svm import SVC\n",
    "model_rbf = SVC(kernel='rbf')\n",
    "model_rbf.fit(X_train, Y_train)"
   ]
  },
  {
   "cell_type": "code",
   "execution_count": 20,
   "id": "51574a87",
   "metadata": {},
   "outputs": [
    {
     "name": "stdout",
     "output_type": "stream",
     "text": [
      "Accuracy =  29\n"
     ]
    }
   ],
   "source": [
    "predictions = model_rbf.predict(X_test)\n",
    "\n",
    "#Printing score and confusion matrix\n",
    "from sklearn.metrics import accuracy_score, confusion_matrix\n",
    "print(\"Accuracy = \", (round((accuracy_score(Y_test, predictions))*100)))"
   ]
  },
  {
   "cell_type": "markdown",
   "id": "ef867647",
   "metadata": {},
   "source": [
    "***TRAINING THE SVC WITH POLYNOMIAL KERNEL***"
   ]
  },
  {
   "cell_type": "code",
   "execution_count": 21,
   "id": "5b93057e",
   "metadata": {},
   "outputs": [
    {
     "data": {
      "text/plain": [
       "SVC(degree=7, gamma=2, kernel='poly')"
      ]
     },
     "execution_count": 21,
     "metadata": {},
     "output_type": "execute_result"
    }
   ],
   "source": [
    "# from sklearn.metrics import accuracy_score, confusion_matrix\n",
    "# from sklearn.svm import SVC\n",
    "\n",
    "# degrees = [0, 1, 2, 3, 4, 5, 6,7,8,9,10,11,12,13,14,15]\n",
    "# acc = []\n",
    "# for degree in degrees:\n",
    "#     svc = SVC(kernel='poly', degree=degree).fit(X_train, Y_train)\n",
    "#     predictions_poly = model_poly.predict(X_test)\n",
    "#     temp = accuracy_score(Y_test, predictions_poly)\n",
    "#     acc.append(temp)\n",
    "    \n",
    "\n",
    "# print(max(acc))\n",
    "# print(acc.index(max(acc)))\n",
    "\n",
    "\n",
    "#Training the model\n",
    "model_poly = SVC(kernel='poly', degree=7, gamma=2)\n",
    "model_poly.fit(X_train, Y_train)"
   ]
  },
  {
   "cell_type": "code",
   "execution_count": 22,
   "id": "ab6715d1",
   "metadata": {},
   "outputs": [
    {
     "name": "stdout",
     "output_type": "stream",
     "text": [
      "Accuracy =  14\n"
     ]
    }
   ],
   "source": [
    "predictions_poly = model_poly.predict(X_test)\n",
    "\n",
    "#Printing score and confusion matrix\n",
    "from sklearn.metrics import accuracy_score, confusion_matrix\n",
    "print(\"Accuracy = \", (round((accuracy_score(Y_test, predictions_poly))*100)))"
   ]
  },
  {
   "cell_type": "markdown",
   "id": "be1af33a",
   "metadata": {},
   "source": [
    "***TRAINING THE SVC MODEL WITH LINEAR KERNEL***"
   ]
  },
  {
   "cell_type": "code",
   "execution_count": 23,
   "id": "b594165a",
   "metadata": {},
   "outputs": [
    {
     "data": {
      "text/plain": [
       "SVC(kernel='linear')"
      ]
     },
     "execution_count": 23,
     "metadata": {},
     "output_type": "execute_result"
    }
   ],
   "source": [
    "model_linear = SVC(kernel='linear')\n",
    "model_linear.fit(X_train, Y_train)"
   ]
  },
  {
   "cell_type": "code",
   "execution_count": 24,
   "id": "51d4c800",
   "metadata": {},
   "outputs": [
    {
     "name": "stdout",
     "output_type": "stream",
     "text": [
      "Accuracy =  75\n"
     ]
    }
   ],
   "source": [
    "predictions_linear = model_linear.predict(X_test)\n",
    "\n",
    "#Printing score and confusion matrix\n",
    "from sklearn.metrics import accuracy_score, confusion_matrix\n",
    "print(\"Accuracy = \", (round((accuracy_score(Y_test, predictions_linear))*100)))"
   ]
  },
  {
   "cell_type": "markdown",
   "id": "f33d7257",
   "metadata": {},
   "source": [
    "***TRAINING THE SVC MODEL WITH SIGMOID KERNEL***"
   ]
  },
  {
   "cell_type": "code",
   "execution_count": 25,
   "id": "329441c9",
   "metadata": {},
   "outputs": [
    {
     "data": {
      "text/plain": [
       "SVC(kernel='sigmoid')"
      ]
     },
     "execution_count": 25,
     "metadata": {},
     "output_type": "execute_result"
    }
   ],
   "source": [
    "model_sigmoid = SVC(kernel='sigmoid')\n",
    "model_sigmoid.fit(X_train, Y_train)"
   ]
  },
  {
   "cell_type": "code",
   "execution_count": 26,
   "id": "baeb9e1c",
   "metadata": {},
   "outputs": [
    {
     "name": "stdout",
     "output_type": "stream",
     "text": [
      "Accuracy =  75\n"
     ]
    }
   ],
   "source": [
    "predictions_sig = model_linear.predict(X_test)\n",
    "\n",
    "#Printing score and confusion matrix\n",
    "from sklearn.metrics import accuracy_score, confusion_matrix\n",
    "print(\"Accuracy = \", (round((accuracy_score(Y_test, predictions_sig))*100)))"
   ]
  },
  {
   "cell_type": "markdown",
   "id": "0ece1c79",
   "metadata": {},
   "source": [
    "# Training the model with Decision Tree Classifier"
   ]
  },
  {
   "cell_type": "markdown",
   "id": "5df7abe8",
   "metadata": {},
   "source": [
    "***FINDING WHICH PARAMETERS ARE IMPORTANT***"
   ]
  },
  {
   "cell_type": "code",
   "execution_count": 27,
   "id": "a6b41d4a",
   "metadata": {},
   "outputs": [
    {
     "data": {
      "text/plain": [
       "ExtraTreesRegressor()"
      ]
     },
     "execution_count": 27,
     "metadata": {},
     "output_type": "execute_result"
    }
   ],
   "source": [
    "# Feature selection by ExtraTreesRegressor(model based)\n",
    "from sklearn.ensemble import ExtraTreesRegressor\n",
    "reg= ExtraTreesRegressor()\n",
    "reg.fit(X_train, Y_train)"
   ]
  },
  {
   "cell_type": "code",
   "execution_count": 28,
   "id": "ad56309e",
   "metadata": {},
   "outputs": [
    {
     "data": {
      "text/plain": [
       "array([7.23603250e-04, 2.17706603e-01, 0.00000000e+00, 1.37217631e-05,\n",
       "       2.22800197e-05, 6.51054322e-05, 3.39788058e-06, 6.85116925e-05,\n",
       "       1.85842854e-02, 0.00000000e+00, 9.10961867e-07, 1.14335414e-04,\n",
       "       1.31149478e-04, 2.45357538e-04, 0.00000000e+00, 1.38854109e-06,\n",
       "       9.02323864e-05, 2.11150326e-02, 3.60591409e-06, 2.02513193e-04,\n",
       "       3.38916394e-02, 1.50539397e-01, 2.59015957e-02, 0.00000000e+00,\n",
       "       6.95899100e-05, 2.79073746e-02, 2.09019746e-03, 2.74997757e-04,\n",
       "       3.93751678e-02, 1.34338435e-04, 9.83221095e-05, 4.56661043e-02,\n",
       "       6.19016659e-05, 3.58969894e-05, 6.61995684e-02, 2.94437654e-04,\n",
       "       4.05295686e-05, 4.13708305e-05, 1.00297697e-04, 0.00000000e+00,\n",
       "       5.78000174e-02, 8.68320924e-02, 1.03581662e-01, 2.15944928e-04,\n",
       "       4.04734743e-05, 1.03667203e-04, 1.06882992e-05, 1.44868128e-04,\n",
       "       8.56042526e-05, 1.10492373e-04, 2.17406151e-04, 1.67230111e-04,\n",
       "       7.94640424e-04, 3.77072560e-04, 3.85079924e-05, 1.42391854e-04,\n",
       "       7.29187154e-05, 2.67419069e-05, 1.07543246e-04, 3.13484670e-05,\n",
       "       1.26783277e-04, 1.72548933e-05, 1.03972210e-04, 3.61083124e-05,\n",
       "       7.39976832e-05, 9.69258103e-02])"
      ]
     },
     "execution_count": 28,
     "metadata": {},
     "output_type": "execute_result"
    }
   ],
   "source": [
    "reg.feature_importances_"
   ]
  },
  {
   "cell_type": "code",
   "execution_count": 29,
   "id": "66081147",
   "metadata": {},
   "outputs": [
    {
     "data": {
      "image/png": "[encoded data removed]",
      "text/plain": [
       "<Figure size 432x288 with 1 Axes>"
      ]
     },
     "metadata": {
      "needs_background": "light"
     },
     "output_type": "display_data"
    }
   ],
   "source": [
    "feat_importances = pd.Series(reg.feature_importances_, index=X_train.columns)\n",
    "feat_importances.nlargest(10).plot(kind='barh')\n",
    "plt.show()"
   ]
  },
  {
   "cell_type": "code",
   "execution_count": 30,
   "id": "b92592b2",
   "metadata": {},
   "outputs": [],
   "source": [
    "# Traning model with all features \n",
    "\n",
    "from sklearn.model_selection import train_test_split\n",
    "X_train, X_test, y_train, y_test = train_test_split(X,Y, test_size=0.1, random_state=0)"
   ]
  },
  {
   "cell_type": "code",
   "execution_count": 31,
   "id": "0cf40acf",
   "metadata": {},
   "outputs": [
    {
     "data": {
      "text/plain": [
       "DecisionTreeClassifier()"
      ]
     },
     "execution_count": 31,
     "metadata": {},
     "output_type": "execute_result"
    }
   ],
   "source": [
    "from sklearn.tree import DecisionTreeClassifier\n",
    "decision_model=DecisionTreeClassifier()\n",
    "# fit independent varaibles to the dependent variables\n",
    "decision_model.fit(X_train,y_train)"
   ]
  },
  {
   "cell_type": "code",
   "execution_count": 32,
   "id": "d1b6d76b",
   "metadata": {},
   "outputs": [
    {
     "data": {
      "text/plain": [
       "1.0"
      ]
     },
     "execution_count": 32,
     "metadata": {},
     "output_type": "execute_result"
    }
   ],
   "source": [
    "decision_model.score(X_train,y_train)"
   ]
  },
  {
   "cell_type": "code",
   "execution_count": 33,
   "id": "6449089e",
   "metadata": {},
   "outputs": [
    {
     "name": "stdout",
     "output_type": "stream",
     "text": [
      "Accuracy =  8\n"
     ]
    }
   ],
   "source": [
    "predictions_decision = decision_model.predict(X_test)\n",
    "\n",
    "#Printing score and confusion matrix\n",
    "from sklearn.metrics import accuracy_score, confusion_matrix\n",
    "print(\"Accuracy = \", (round((accuracy_score(Y_test, predictions_decision))*100)))"
   ]
  },
  {
   "cell_type": "code",
   "execution_count": null,
   "id": "11f02020",
   "metadata": {},
   "outputs": [],
   "source": []
  }
 ],
 "metadata": {
  "kernelspec": {
   "display_name": "Python 3",
   "language": "python",
   "name": "python3"
  },
  "language_info": {
   "codemirror_mode": {
    "name": "ipython",
    "version": 3
   },
   "file_extension": ".py",
   "mimetype": "text/x-python",
   "name": "python",
   "nbconvert_exporter": "python",
   "pygments_lexer": "ipython3",
   "version": "3.8.8"
  }
 },
 "nbformat": 4,
 "nbformat_minor": 5
}
